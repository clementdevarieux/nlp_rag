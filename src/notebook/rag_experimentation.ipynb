{
 "cells": [
  {
   "metadata": {},
   "cell_type": "code",
   "source": [
    "from pathlib import Path\n",
    "\n",
    "from src.config import DOCUMENTS_DIR, TEST_DIR\n",
    "from src.llm_query import call_llm\n",
    "from src.retriever import jaccard_retriever, get_fittest_chunk, tfidf_retriever\n",
    "from src.chunk import trunkate_on_h2, find_chunk_indices_with_title\n",
    "import requests\n",
    "import json\n",
    "\n",
    "\n",
    "path = Path(DOCUMENTS_DIR)\n"
   ],
   "id": "bda0d522d813a85f",
   "outputs": [],
   "execution_count": null
  },
  {
   "metadata": {},
   "cell_type": "code",
   "source": [
    "texts = []\n",
    "for filename in path.glob(\"*.md\"):\n",
    "    with open(filename) as f:\n",
    "        texts.append(f.read())\n"
   ],
   "id": "4ae9cffa446de858",
   "outputs": [],
   "execution_count": null
  },
  {
   "metadata": {},
   "cell_type": "markdown",
   "source": "## trucate file into chunks",
   "id": "f154c6faa096b3a"
  },
  {
   "metadata": {},
   "cell_type": "code",
   "source": "chunks = trunkate_on_h2(texts)",
   "id": "198386ed366c2f5b",
   "outputs": [],
   "execution_count": null
  },
  {
   "metadata": {},
   "cell_type": "code",
   "source": "chunks",
   "id": "fac20579d119cb62",
   "outputs": [],
   "execution_count": null
  },
  {
   "metadata": {},
   "cell_type": "code",
   "source": "chunk_tensors_id = find_chunk_indices_with_title(chunks, \"burn::tensor# Struct PrintOptions\")",
   "id": "7cd6639431c021a8",
   "outputs": [],
   "execution_count": null
  },
  {
   "metadata": {},
   "cell_type": "code",
   "source": "tensor_chunk_list = [chunks[i] for i in chunk_tensors_id]",
   "id": "65de7c2f25869c",
   "outputs": [],
   "execution_count": null
  },
  {
   "metadata": {},
   "cell_type": "code",
   "source": "tensor_chunk_list",
   "id": "a924b6213590950e",
   "outputs": [],
   "execution_count": null
  },
  {
   "metadata": {},
   "cell_type": "code",
   "source": [
    "with open(TEST_DIR / 'questions_evaluation.json', 'r') as f:\n",
    "    eval_json = json.load(f)\n",
    "eval_json"
   ],
   "id": "c8781e18935116f2",
   "outputs": [],
   "execution_count": null
  },
  {
   "metadata": {},
   "cell_type": "code",
   "source": [
    "fittest_doc_id = tfidf_retriever(chunks, eval_json[0]['question'])[0]\n",
    "fittest_doc = chunks[fittest_doc_id]"
   ],
   "id": "aa91eb282d28e34d",
   "outputs": [],
   "execution_count": null
  },
  {
   "metadata": {},
   "cell_type": "code",
   "source": "fittest_doc",
   "id": "e7ac12750efa5dd5",
   "outputs": [],
   "execution_count": null
  },
  {
   "metadata": {},
   "cell_type": "code",
   "source": "response = call_llm(eval_json[0]['question'], fittest_doc,llm=\"llama2\")",
   "id": "b424cd7a36258911",
   "outputs": [],
   "execution_count": null
  },
  {
   "metadata": {},
   "cell_type": "code",
   "source": "response",
   "id": "608135158c282013",
   "outputs": [],
   "execution_count": null
  },
  {
   "metadata": {},
   "cell_type": "code",
   "source": "from src.evaluation import evaluate_rag",
   "id": "abc4b3deec1bd162",
   "outputs": [],
   "execution_count": null
  },
  {
   "metadata": {},
   "cell_type": "code",
   "source": "evaluate_rag(eval_json, tfidf_retriever, call_llm, chunks)",
   "id": "d08c3fcb71325f9e",
   "outputs": [],
   "execution_count": null
  },
  {
   "metadata": {},
   "cell_type": "code",
   "source": "",
   "id": "3258780177f32edd",
   "outputs": [],
   "execution_count": null
  }
 ],
 "metadata": {
  "kernelspec": {
   "display_name": "Python 3",
   "language": "python",
   "name": "python3"
  },
  "language_info": {
   "codemirror_mode": {
    "name": "ipython",
    "version": 2
   },
   "file_extension": ".py",
   "mimetype": "text/x-python",
   "name": "python",
   "nbconvert_exporter": "python",
   "pygments_lexer": "ipython2",
   "version": "2.7.6"
  }
 },
 "nbformat": 4,
 "nbformat_minor": 5
}
